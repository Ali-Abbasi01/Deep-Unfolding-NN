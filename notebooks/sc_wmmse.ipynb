{
 "cells": [
  {
   "cell_type": "code",
   "execution_count": 405,
   "id": "00a73acc",
   "metadata": {},
   "outputs": [],
   "source": [
    "import os\n",
    "import sys\n",
    "import json\n",
    "import torch\n",
    "import importlib\n",
    "import matplotlib.pyplot as plt\n",
    "import pandas as pd\n",
    "# Get the current working directory\n",
    "scripts_dir = os.getcwd()\n",
    "# Go up one level\n",
    "project_root = os.path.abspath(os.path.join(scripts_dir, '..'))\n",
    "sys.path.append(project_root)\n",
    "\n",
    "import src.utils\n",
    "importlib.reload(src.utils)\n",
    "from src.utils import calculate_sum_rate_sc\n",
    "\n",
    "import src.sc_wmmse\n",
    "importlib.reload(src.sc_wmmse)\n",
    "from src.sc_wmmse import WMMSE_alg_sc"
   ]
  },
  {
   "cell_type": "code",
   "execution_count": null,
   "id": "466f9e28",
   "metadata": {},
   "outputs": [],
   "source": [
    "## Initialize V according to zero force\n",
    "# def initialize_V_zf(H_dict, d_list, P_T):\n",
    "#     K = len(H_dict)\n",
    "#     N_t = H_dict['0'].shape[1]\n",
    "\n",
    "#     H = torch.cat([H_dict[str(k)] for k in range(K)], dim=0)  # shape (D, N_t)\n",
    "\n",
    "#     H_herm = H.conj().T\n",
    "#     HH_inv = torch.linalg.pinv(H @ H_herm)\n",
    "#     V_zf = H_herm @ HH_inv  # shape (N_t, D)\n",
    "\n",
    "#     # Global normalization\n",
    "#     power_total = torch.norm(V_zf, p='fro')**2\n",
    "#     V_zf_scaled = V_zf * torch.sqrt(P_T / power_total)\n",
    "\n",
    "#     # Split V_zf into per-user blocks\n",
    "#     V_dict = {}\n",
    "#     stream_idx = 0\n",
    "#     for k in range(K):\n",
    "#         dk = d_list[k]\n",
    "#         V_k = V_zf_scaled[:, stream_idx:stream_idx + dk]\n",
    "#         V_dict[str(k)] = V_k\n",
    "#         stream_idx += dk\n",
    "\n",
    "#     return V_dict"
   ]
  },
  {
   "cell_type": "code",
   "execution_count": 406,
   "id": "e3ffaef6",
   "metadata": {},
   "outputs": [
    {
     "name": "stderr",
     "output_type": "stream",
     "text": [
      "/var/folders/35/f3dbnk6d3ts1993_z878dt5w0000gn/T/ipykernel_5311/3587116293.py:19: UserWarning: To copy construct from a tensor, it is recommended to use sourceTensor.clone().detach() or sourceTensor.clone().detach().requires_grad_(True), rather than torch.tensor(sourceTensor).\n",
      "  alph = torch.sqrt(torch.tensor(P_T_sc)) / torch.sqrt(torch.tensor(sum([torch.trace(V[str(k)] @ V[str(k)].conj().T) for k in range(num_users_sc)])))\n",
      "/Users/Ali/Projects/Deep-Unfolding-NN/src/sc_wmmse.py:46: UserWarning: To copy construct from a tensor, it is recommended to use sourceTensor.clone().detach() or sourceTensor.clone().detach().requires_grad_(True), rather than torch.tensor(sourceTensor).\n",
      "  alph = torch.sqrt(torch.tensor(self.PT)) / torch.sqrt(torch.tensor(sum([torch.trace(V[str(k)] @ V[str(k)].conj().T) for k in range(self.K)])))\n"
     ]
    },
    {
     "data": {
      "image/png": "[encoded data removed]",
      "text/plain": [
       "<Figure size 640x480 with 1 Axes>"
      ]
     },
     "metadata": {},
     "output_type": "display_data"
    }
   ],
   "source": [
    "# The setup\n",
    "num_users_sc = 10\n",
    "n_tx_sc = 4\n",
    "n_rx_sc = [2] * num_users_sc\n",
    "num_streams_sc = [2] * num_users_sc\n",
    "P_T_sc = 100\n",
    "sig_k_sc = [1] * num_users_sc\n",
    "d_sc = [2] * num_users_sc\n",
    "alpha_sc = [1] * num_users_sc\n",
    "max_iter_alg_sc = 500\n",
    "tol_alg_sc = 1e-3\n",
    "H_dict_sc = {}\n",
    "\n",
    "# Sample H\n",
    "H_dict_sc = {str(k): torch.randn(n_rx_sc[k], n_tx_sc, dtype=torch.cdouble) for k in range(num_users_sc)}\n",
    "\n",
    "def proj_power(V):\n",
    "    # Projects V according to the constraint\n",
    "    alph = torch.sqrt(torch.tensor(P_T_sc)) / torch.sqrt(torch.tensor(sum([torch.trace(V[str(k)] @ V[str(k)].conj().T) for k in range(num_users_sc)])))\n",
    "    V_proj = {str(k): alph * V[str(k)] for k in range(num_users_sc)}\n",
    "    return V_proj\n",
    "\n",
    "def init_V(H):\n",
    "    # Initializes V according to Hu's code\n",
    "    V = {}\n",
    "    for k in range(len(H_dict)):\n",
    "        V[str(k)] = (torch.linalg.pinv(H[str(k)] @ H[str(k)].conj().T) @ H[str(k)]).conj().T\n",
    "    return V\n",
    "\n",
    "# Initialize V\n",
    "V_init_sc = init_V(H_dict_sc)\n",
    "\n",
    "# Project V\n",
    "V_proj_sc = proj_power(V_init_sc)\n",
    "\n",
    "# Run the WMMSE algorithm\n",
    "w = WMMSE_alg_sc(num_users_sc, n_tx_sc, n_rx_sc, H_dict_sc, P_T_sc, sig_k_sc, d_sc, alpha_sc, max_iter_alg_sc, tol_alg_sc)\n",
    "V_l_sc, U_l_sc, W_l_sc = w.algorithm(V_proj_sc)\n",
    "\n",
    "# r_l_sc = []\n",
    "# for i in V_l_sc:\n",
    "#     r_l_sc.append(calculate_sum_rate_sc(H_dict_sc, i, alpha_sc, sig_k_sc))\n",
    "# plt.plot(r_l_sc)\n",
    "\n",
    "# Plot sum rate vs iteration\n",
    "W_l_l = []\n",
    "for i in W_l_sc:\n",
    "    val1 = 0\n",
    "    for k in range(num_users_sc):\n",
    "        val1 += torch.log2(torch.linalg.det(i[str(k)]))\n",
    "    W_l_l.append(val1)\n",
    "plt.plot(W_l_l)\n",
    "plt.xlabel(\"Iteration\")\n",
    "plt.ylabel(\"Sum_rate\")\n",
    "plt.show()"
   ]
  }
 ],
 "metadata": {
  "kernelspec": {
   "display_name": "Deep-Unfolding-NN",
   "language": "python",
   "name": "python3"
  },
  "language_info": {
   "codemirror_mode": {
    "name": "ipython",
    "version": 3
   },
   "file_extension": ".py",
   "mimetype": "text/x-python",
   "name": "python",
   "nbconvert_exporter": "python",
   "pygments_lexer": "ipython3",
   "version": "3.10.16"
  }
 },
 "nbformat": 4,
 "nbformat_minor": 5
}
