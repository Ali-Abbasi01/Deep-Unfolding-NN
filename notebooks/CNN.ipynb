{
 "cells": [
  {
   "cell_type": "code",
   "execution_count": 9,
   "id": "8fa02a44",
   "metadata": {},
   "outputs": [],
   "source": [
    "import torch\n",
    "import pandas as pd\n",
    "import json\n",
    "import os\n",
    "import sys\n",
    "\n",
    "scripts_dir = os.getcwd()\n",
    "# Go up one level\n",
    "project_root = os.path.abspath(os.path.join(scripts_dir, '..'))\n",
    "sys.path.append(project_root)\n",
    "\n",
    "from src.CNN import BeamformingCNN"
   ]
  },
  {
   "cell_type": "code",
   "execution_count": null,
   "id": "756dd0c2",
   "metadata": {},
   "outputs": [],
   "source": [
    "# Load the list of records\n",
    "with open(\"data.json\", \"r\") as f:\n",
    "    records_in = json.load(f)\n",
    "\n",
    "# Build a DataFrame\n",
    "df = pd.DataFrame(records_in)\n",
    "\n",
    "# Helper to turn JSON dicts back into torch.cfloat tensors\n",
    "def deserialize_complex_list(lst):\n",
    "    return [\n",
    "        torch.tensor(entry[\"real\"]) + 1j * torch.tensor(entry[\"imag\"])\n",
    "        for entry in lst\n",
    "    ]\n",
    "\n",
    "# Apply to both columns\n",
    "df[\"H\"] = df[\"H\"].apply(deserialize_complex_list)\n",
    "df[\"V\"] = df[\"V\"].apply(deserialize_complex_list)\n",
    "df[\"U\"] = df[\"U\"].apply(deserialize_complex_list)\n",
    "df[\"W\"] = df[\"W\"].apply(deserialize_complex_list)"
   ]
  },
  {
   "cell_type": "code",
   "execution_count": null,
   "id": "5b8ad2a7",
   "metadata": {},
   "outputs": [],
   "source": [
    "def train_val_split_indices(df, train_ratio=0.8, random_seed=None):\n",
    "    n = len(df) \n",
    "    indices = np.arange(n)\n",
    "    \n",
    "    if random_seed is not None:\n",
    "        np.random.seed(random_seed)\n",
    "    np.random.shuffle(indices)\n",
    "    \n",
    "    # how many go to train\n",
    "    n_train = int(np.floor(train_ratio * n))\n",
    "    \n",
    "    train_idx = indices[:n_train]\n",
    "    val_idx   = indices[n_train:]\n",
    "    return train_idx, val_idx\n",
    "\n",
    "train_idx, val_idx = train_val_split_indices(df, train_ratio=0.8, random_seed=None)\n"
   ]
  },
  {
   "cell_type": "code",
   "execution_count": null,
   "id": "47e634f4",
   "metadata": {},
   "outputs": [],
   "source": [
    "df_train = df.iloc[indices]\n",
    "df_val = df.iloc[indices]\n",
    "df"
   ]
  },
  {
   "cell_type": "code",
   "execution_count": null,
   "id": "0a3c33d3",
   "metadata": {},
   "outputs": [],
   "source": [
    "model = CNN()\n",
    "model.train(H_train, V_train,)\n"
   ]
  },
  {
   "cell_type": "code",
   "execution_count": 15,
   "id": "6ecd3ef5",
   "metadata": {},
   "outputs": [],
   "source": [
    "def generate_random_mimo_channels(n_rx, n_tx, dtype=torch.complex64):\n",
    "    real_part = torch.randn(n_rx, n_tx)\n",
    "    imag_part = torch.randn(n_rx, n_tx)\n",
    "    channels = torch.complex(real_part, imag_part).to(dtype)\n",
    "    return channels\n",
    "\n",
    "H_l = []\n",
    "for _ in range(100):\n",
    "    H = {}\n",
    "    for k in range(3):\n",
    "        H[k] = generate_random_mimo_channels(n_rx = 2, n_tx = 4, dtype=torch.complex64)\n",
    "    H_l.append(H)"
   ]
  },
  {
   "cell_type": "code",
   "execution_count": 21,
   "id": "10380a08",
   "metadata": {},
   "outputs": [],
   "source": [
    "H_stack = torch.stack([H[0], H[1], H[2]])"
   ]
  },
  {
   "cell_type": "code",
   "execution_count": 22,
   "id": "49ea5f73",
   "metadata": {},
   "outputs": [],
   "source": [
    "H_real = H_stack.real                                             # [K, Nr, Nt]\n",
    "H_imag = H_stack.imag                                             # [K, Nr, Nt]\n",
    "X = torch.cat([H_real, H_imag], dim=0) \n"
   ]
  },
  {
   "cell_type": "code",
   "execution_count": 23,
   "id": "a8b44289",
   "metadata": {},
   "outputs": [
    {
     "data": {
      "text/plain": [
       "torch.Size([6, 2, 4])"
      ]
     },
     "execution_count": 23,
     "metadata": {},
     "output_type": "execute_result"
    }
   ],
   "source": [
    "X.shape"
   ]
  },
  {
   "cell_type": "code",
   "execution_count": 26,
   "id": "4e0a9f12",
   "metadata": {},
   "outputs": [
    {
     "name": "stdout",
     "output_type": "stream",
     "text": [
      "Epoch 1/10, Loss: 1.0174692869186401\n",
      "Epoch 2/10, Loss: 0.9701234698295593\n",
      "Epoch 3/10, Loss: 1.006143569946289\n",
      "Epoch 4/10, Loss: 0.9876295328140259\n",
      "Epoch 5/10, Loss: 0.9602190256118774\n",
      "Epoch 6/10, Loss: 0.9687371253967285\n",
      "Epoch 7/10, Loss: 0.9478237628936768\n",
      "Epoch 8/10, Loss: 0.8803983926773071\n",
      "Epoch 9/10, Loss: 0.9592944383621216\n",
      "Epoch 10/10, Loss: 0.8480824828147888\n",
      "Training complete!\n",
      "torch.Size([32, 8, 8, 8])\n"
     ]
    }
   ],
   "source": [
    "import torch\n",
    "import torch.nn as nn\n",
    "import torch.optim as optim\n",
    "from torch.utils.data import DataLoader, TensorDataset\n",
    "\n",
    "# Define the CNN model\n",
    "class ChannelCNN(nn.Module):\n",
    "    def __init__(self, K, Nr, Nt):\n",
    "        super(ChannelCNN, self).__init__()\n",
    "        self.conv1 = nn.Conv2d(in_channels=2*K, out_channels=32, kernel_size=3, stride=1, padding=1)\n",
    "        self.conv2 = nn.Conv2d(in_channels=32, out_channels=64, kernel_size=3, stride=1, padding=1)\n",
    "        self.fc1 = nn.Linear(64 * Nr * Nt, 128)\n",
    "        self.fc2 = nn.Linear(128, 2*K*Nr*Nt)  # Output size matches the beamforming matrix\n",
    "\n",
    "    def forward(self, x):\n",
    "        x = self.conv1(x)\n",
    "        x = nn.ReLU()(x)\n",
    "        x = self.conv2(x)\n",
    "        x = nn.ReLU()(x)\n",
    "        x = x.view(x.size(0), -1)  # Flatten the tensor\n",
    "        x = self.fc1(x)\n",
    "        x = nn.ReLU()(x)\n",
    "        x = self.fc2(x)\n",
    "        x = x.view(x.size(0), 2*K, Nr, Nt)  # Reshape to match the target beamforming matrix\n",
    "        return x\n",
    "\n",
    "    def predict(self, x):\n",
    "        self.eval()\n",
    "        with torch.no_grad():\n",
    "            return self.forward(x)\n",
    "\n",
    "# Generate some example data\n",
    "batch_size = 32\n",
    "K = 4  # Example value for K\n",
    "Nr = 8  # Example value for Nr\n",
    "Nt = 8  # Example value for Nt\n",
    "num_samples = 1000\n",
    "\n",
    "# Randomly generated example data and beamforming matrices\n",
    "data = torch.randn(num_samples, 2*K, Nr, Nt)\n",
    "beamforming_matrices = torch.randn(num_samples, 2*K, Nr, Nt)\n",
    "\n",
    "# Create DataLoader\n",
    "dataset = TensorDataset(data, beamforming_matrices)\n",
    "dataloader = DataLoader(dataset, batch_size=batch_size, shuffle=True)\n",
    "\n",
    "# Initialize the model, loss function, and optimizer\n",
    "model = ChannelCNN(K, Nr, Nt)\n",
    "criterion = nn.MSELoss()  # Using Mean Squared Error loss for regression\n",
    "optimizer = optim.Adam(model.parameters(), lr=0.001)\n",
    "\n",
    "# Training loop\n",
    "num_epochs = 10\n",
    "for epoch in range(num_epochs):\n",
    "    model.train()\n",
    "    for inputs, targets in dataloader:\n",
    "        optimizer.zero_grad()\n",
    "        outputs = model(inputs)\n",
    "        loss = criterion(outputs, targets)\n",
    "        loss.backward()\n",
    "        optimizer.step()\n",
    "    print(f'Epoch {epoch+1}/{num_epochs}, Loss: {loss.item()}')\n",
    "\n",
    "print(\"Training complete!\")\n",
    "\n",
    "# Example prediction\n",
    "example_input = torch.randn(batch_size, 2*K, Nr, Nt)\n",
    "predicted_output = model.predict(example_input)\n",
    "print(predicted_output.shape)  # Should be (batch_size, 2*K, Nr, Nt)\n"
   ]
  }
 ],
 "metadata": {
  "kernelspec": {
   "display_name": "Deep-Unfolding-NN",
   "language": "python",
   "name": "python3"
  },
  "language_info": {
   "codemirror_mode": {
    "name": "ipython",
    "version": 3
   },
   "file_extension": ".py",
   "mimetype": "text/x-python",
   "name": "python",
   "nbconvert_exporter": "python",
   "pygments_lexer": "ipython3",
   "version": "3.10.16"
  }
 },
 "nbformat": 4,
 "nbformat_minor": 5
}
