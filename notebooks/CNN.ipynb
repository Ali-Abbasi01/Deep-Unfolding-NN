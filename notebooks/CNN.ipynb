{
 "cells": [
  {
   "cell_type": "markdown",
   "id": "88587486",
   "metadata": {},
   "source": [
    "Train a CNN model for beamforming using hybrid supervised and unsupervised training"
   ]
  },
  {
   "cell_type": "code",
   "execution_count": 108,
   "id": "fe0b93c4",
   "metadata": {},
   "outputs": [],
   "source": [
    "import torch\n",
    "import torch.nn as nn\n",
    "import torch.optim as optim\n",
    "from torch.utils.data import DataLoader, TensorDataset\n",
    "from typing import List, Dict\n",
    "import importlib\n",
    "# Get the current working directory\n",
    "scripts_dir = os.getcwd()\n",
    "# Go up one level\n",
    "project_root = os.path.abspath(os.path.join(scripts_dir, '..'))\n",
    "sys.path.append(project_root)\n",
    "\n",
    "import src.CNN\n",
    "importlib.reload(src.CNN)\n",
    "from src.CNN import ChannelCNN, Trainer"
   ]
  },
  {
   "cell_type": "code",
   "execution_count": 109,
   "id": "052e0b82",
   "metadata": {},
   "outputs": [],
   "source": [
    "class setup():\n",
    "    def __init__(self, n_tx, n_rx:int, num_streams:int, num_users, PT):\n",
    "        self.n_tx = n_tx\n",
    "        self.n_rx = n_rx\n",
    "        self.d = num_streams\n",
    "        self.K = num_users\n",
    "        self.PT = PT"
   ]
  },
  {
   "cell_type": "code",
   "execution_count": 110,
   "id": "1b480371",
   "metadata": {},
   "outputs": [],
   "source": [
    "# Define the setup\n",
    "set_up = setup(n_tx=8, n_rx=2, num_streams=2, num_users=4, PT=5)"
   ]
  },
  {
   "cell_type": "code",
   "execution_count": 111,
   "id": "3f631cf6",
   "metadata": {},
   "outputs": [],
   "source": [
    "# Defien the CNN model and the trainer\n",
    "cn = ChannelCNN(set_up)\n",
    "tr = Trainer(set_up, cn)"
   ]
  },
  {
   "cell_type": "code",
   "execution_count": 112,
   "id": "9281516e",
   "metadata": {},
   "outputs": [],
   "source": [
    "# Define the dataset dataframe\n",
    "def complex_tensor():\n",
    "    real = torch.randn(2, 8)\n",
    "    imag = torch.randn(2, 8)\n",
    "    return real + 1j * imag\n",
    "\n",
    "# Create the DataFrame\n",
    "H_df = pd.DataFrame([[complex_tensor() for _ in range(4)] for _ in range(10)])\n",
    "\n",
    "def complex_tensor():\n",
    "    real = torch.randn(8, 2)\n",
    "    imag = torch.randn(8, 2)\n",
    "    return real + 1j * imag\n",
    "\n",
    "# Create the DataFrame\n",
    "V_df = pd.DataFrame([[complex_tensor() for _ in range(4)] for _ in range(10)])\n",
    "\n",
    "dataset = pd.concat([H_df, V_df], axis=1)"
   ]
  },
  {
   "cell_type": "code",
   "execution_count": 113,
   "id": "8d21638d",
   "metadata": {},
   "outputs": [
    {
     "name": "stdout",
     "output_type": "stream",
     "text": [
      "Epoch 1/10, Loss: 0.8949359655380249\n",
      "Epoch 2/10, Loss: 0.8633920550346375\n",
      "Epoch 3/10, Loss: 0.8344792723655701\n",
      "Epoch 4/10, Loss: 0.7984554767608643\n",
      "Epoch 5/10, Loss: 0.739816427230835\n",
      "Epoch 6/10, Loss: 0.6784834861755371\n",
      "Epoch 7/10, Loss: 0.6114283800125122\n",
      "Epoch 8/10, Loss: 0.537505030632019\n",
      "Epoch 9/10, Loss: 0.4539209008216858\n",
      "Epoch 10/10, Loss: 0.36555784940719604\n"
     ]
    }
   ],
   "source": [
    "# Supervised training\n",
    "tr.train_supervised(dataset=dataset, num_epochs=10, batch_size=2)"
   ]
  },
  {
   "cell_type": "code",
   "execution_count": 114,
   "id": "b47ed99a",
   "metadata": {},
   "outputs": [
    {
     "name": "stderr",
     "output_type": "stream",
     "text": [
      "/Users/Ali/Projects/Deep-Unfolding-NN/src/CNN.py:124: FutureWarning: DataFrame.applymap has been deprecated. Use DataFrame.map instead.\n",
      "  H = H.applymap(lambda x: x.to(torch.cfloat))\n"
     ]
    },
    {
     "name": "stdout",
     "output_type": "stream",
     "text": [
      "Epoch 1/10, Loss: 1405.818115234375\n",
      "Epoch 2/10, Loss: 156.85256958007812\n",
      "Epoch 3/10, Loss: 4.6633219718933105\n",
      "Epoch 4/10, Loss: -3.9695911407470703\n",
      "Epoch 5/10, Loss: -3.989509344100952\n",
      "Epoch 6/10, Loss: -4.021352767944336\n",
      "Epoch 7/10, Loss: -4.060084819793701\n",
      "Epoch 8/10, Loss: -4.104735851287842\n",
      "Epoch 9/10, Loss: -4.157665252685547\n",
      "Epoch 10/10, Loss: -4.221340179443359\n",
      "Training complete!\n"
     ]
    }
   ],
   "source": [
    "# Unsupervised training\n",
    "tr.train_unsupervised(dataset=dataset, num_epochs=10, batch_size=2)"
   ]
  }
 ],
 "metadata": {
  "kernelspec": {
   "display_name": "Deep-Unfolding-NN",
   "language": "python",
   "name": "python3"
  },
  "language_info": {
   "codemirror_mode": {
    "name": "ipython",
    "version": 3
   },
   "file_extension": ".py",
   "mimetype": "text/x-python",
   "name": "python",
   "nbconvert_exporter": "python",
   "pygments_lexer": "ipython3",
   "version": "3.10.16"
  }
 },
 "nbformat": 4,
 "nbformat_minor": 5
}
