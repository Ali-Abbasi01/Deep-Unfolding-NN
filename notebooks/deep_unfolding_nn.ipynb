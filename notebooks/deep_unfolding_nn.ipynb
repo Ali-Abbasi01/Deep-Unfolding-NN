{
 "cells": [
  {
   "cell_type": "code",
   "execution_count": null,
   "id": "96aa30e4",
   "metadata": {},
   "outputs": [],
   "source": [
    "import torch\n",
    "import torch.nn as nn\n",
    "import pandas as pd\n",
    "from typing import Dict, List, Any\n",
    "from torch.utils.data import DataLoader, TensorDataset\n",
    "\n",
    "import src.deep_unfolding_nn\n",
    "from src.utils import sum_rate_loss_BC"
   ]
  },
  {
   "cell_type": "code",
   "execution_count": 556,
   "id": "cc983902",
   "metadata": {},
   "outputs": [],
   "source": [
    "class setup():\n",
    "    def __init__(self, n_tx, n_rx, num_streams, num_users, P):\n",
    "        self.n_tx = n_tx\n",
    "        self.n_rx = n_rx\n",
    "        self.d = num_streams\n",
    "        self.K = num_users\n",
    "        self.P = P"
   ]
  },
  {
   "cell_type": "code",
   "execution_count": 566,
   "id": "5d818b4e",
   "metadata": {},
   "outputs": [],
   "source": [
    "# Parameters\n",
    "n_t = set_up.n_tx  # fixed number of transmit antennas\n",
    "n_r = set_up.n_rx  # different receive antennas for each column\n",
    "\n",
    "# Function to generate one complex matrix\n",
    "def complex_matrix(n_t, n_r):\n",
    "    return torch.randn(n_r, n_t, dtype=torch.cfloat)\n",
    "\n",
    "# Construct the DataFrame\n",
    "data = []\n",
    "for _ in range(10):  # 5 rows\n",
    "    row = {f'user_{i}': complex_matrix(n_t, n_r[i]) for i in range(set_up.K)}\n",
    "    data.append(row)\n",
    "\n",
    "H = pd.DataFrame(data)"
   ]
  },
  {
   "cell_type": "code",
   "execution_count": 562,
   "id": "f3ae86fd",
   "metadata": {},
   "outputs": [],
   "source": [
    "V = {}\n",
    "d = set_up.d\n",
    "for i in range(10):\n",
    "    V[str(i)] = {}\n",
    "    for j in range(set_up.K):\n",
    "        V[str(i)][str(j)] = torch.randn(n_t, d[j], dtype=torch.cfloat)"
   ]
  },
  {
   "cell_type": "code",
   "execution_count": 568,
   "id": "354ab8c6",
   "metadata": {},
   "outputs": [
    {
     "data": {
      "text/plain": [
       "nan"
      ]
     },
     "execution_count": 568,
     "metadata": {},
     "output_type": "execute_result"
    }
   ],
   "source": [
    "set_up = setup(n_tx=8, n_rx=[2, 2, 2, 2], num_streams=[2, 2, 2, 2], num_users=4, P=5)\n",
    "du = DUNN(num_layers=5, setup=set_up)\n",
    "\n",
    "tr = Trainer(model=du, setup=set_up, lr=1e-3)\n",
    "tr.train_epoch(H, loss_fn=sum_rate_loss_BC, num_epochs=10, batch_size=2)"
   ]
  }
 ],
 "metadata": {
  "kernelspec": {
   "display_name": "Deep-Unfolding-NN",
   "language": "python",
   "name": "python3"
  },
  "language_info": {
   "codemirror_mode": {
    "name": "ipython",
    "version": 3
   },
   "file_extension": ".py",
   "mimetype": "text/x-python",
   "name": "python",
   "nbconvert_exporter": "python",
   "pygments_lexer": "ipython3",
   "version": "3.10.16"
  }
 },
 "nbformat": 4,
 "nbformat_minor": 5
}
