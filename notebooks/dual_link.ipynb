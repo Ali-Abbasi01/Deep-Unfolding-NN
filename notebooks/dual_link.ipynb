{
 "cells": [
  {
   "cell_type": "markdown",
   "id": "b0b4dde4",
   "metadata": {},
   "source": [
    "Running the dual-link algorithm"
   ]
  },
  {
   "cell_type": "code",
   "execution_count": 619,
   "id": "4bf3da5f",
   "metadata": {},
   "outputs": [],
   "source": [
    "import os\n",
    "import sys\n",
    "import json\n",
    "import torch\n",
    "import importlib\n",
    "import matplotlib.pyplot as plt\n",
    "# Get the current working directory\n",
    "scripts_dir = os.getcwd()\n",
    "# Go up one level\n",
    "project_root = os.path.abspath(os.path.join(scripts_dir, '..'))\n",
    "sys.path.append(project_root)\n",
    "\n",
    "import src.dual_link\n",
    "importlib.reload(src.dual_link)\n",
    "from src.dual_link import dual_link_alg"
   ]
  },
  {
   "cell_type": "code",
   "execution_count": 640,
   "id": "c9c9347a",
   "metadata": {},
   "outputs": [],
   "source": [
    "# The setup\n",
    "L = 8\n",
    "PT = 100\n",
    "w = [1] * L\n",
    "tol_alg = 1e-2\n",
    "max_iter_alg = 100\n",
    "data_streams = [4] * L\n",
    "d = data_streams\n",
    "\n",
    "# The channel matrix\n",
    "H = []\n",
    "for i in range(L):\n",
    "    l = []\n",
    "    for j in range(L):\n",
    "        l.append(torch.randn(8, 8, dtype=torch.cdouble))\n",
    "    H.append(l)\n",
    "\n",
    "sigma_init = []\n",
    "for l in range(L):\n",
    "    V = torch.rand(H[0][l].shape[1], d[l], dtype=torch.cdouble)\n",
    "    sigma_init.append(V @ V.conj().T)\n",
    "\n",
    "# Initialize sigma\n",
    "ss = 0\n",
    "for l in range(L):\n",
    "    ss += torch.trace(sigma_init[l])\n",
    "sigma_init = [sigma_init[l] * (PT/ss.real) for l in range(L)]\n",
    "\n",
    "sigma = sigma_init\n",
    "\n",
    "# Run the algorithm\n",
    "dl = dual_link_alg(H, w, PT, tol_alg, max_iter_alg, data_streams)\n",
    "R_l, sigma_l = dl.algorithm(sigma)"
   ]
  },
  {
   "cell_type": "markdown",
   "id": "d336a4c1",
   "metadata": {},
   "source": [
    "Compare with another implementation"
   ]
  },
  {
   "cell_type": "code",
   "execution_count": 622,
   "id": "6ee8a80e",
   "metadata": {},
   "outputs": [],
   "source": [
    "#dual-link algorithm\n",
    "def alg_dual_link(power_total: float, weight: np.ndarray, H_links: np.ndarray,\n",
    "                  rate_diff: float, Sigma=None):\n",
    "    \"\"\"\n",
    "    update: rates, sum_rate, Sigma, Sigma_hat\n",
    "    \"\"\"\n",
    "    #------------------------------------------------\n",
    "    # find basic parameters\n",
    "    #------------------------------------------------\n",
    "    n_links = H_links.shape[0]\n",
    "    rates = np.zeros(n_links)\n",
    "    Sigma_hat = np.ndarray((n_links), dtype=np.ndarray)\n",
    "    #------------------------------------------------\n",
    "    # If initial Sigma not given, make it identity\n",
    "    #------------------------------------------------\n",
    "    if Sigma is None:\n",
    "        Sigma = np.ndarray((n_links), dtype=np.ndarray)\n",
    "        for l_link in range(n_links):\n",
    "            lt_l = H_links[l_link, l_link].shape[1]\n",
    "            # power constraint may not be satisfied\n",
    "            Sigma[l_link] = power_total / lt_l / n_links * np.eye(lt_l, dtype=complex)\n",
    "    # print(Sigma)\n",
    "    #---------------------------------------------\n",
    "    # normalize the inital Sigma to fit power constraint\n",
    "    #---------------------------------------------\n",
    "    # else:\n",
    "    #     temp_power = 0.0\n",
    "    #     for l_link in range(n_links):\n",
    "    #         temp_power += np.trace(Sigma[l_link])\n",
    "    #     #normalize to power_total\n",
    "    #     Sigma *= power_total / temp_power\n",
    "\n",
    "    #---------------------------------------------\n",
    "    # repeat until rate change is small\n",
    "    sum_rate_temp = -np.inf\n",
    "    # The loop break point is in the middle\n",
    "    sum_rate_list = []\n",
    "    while True:\n",
    "    # for ii in range(2):\n",
    "        # calculate reverse link Sigma_hat's\n",
    "        power_normalizer = 0.0\n",
    "        sum_rate = 0.0\n",
    "        for l_link in range(n_links):\n",
    "            # calculate forward link interference\n",
    "            total_Cov_l = np.eye(H_links[l_link, l_link].shape[0], dtype=complex)\n",
    "            for k_link in range(n_links):\n",
    "                total_Cov_l += H_links[l_link, k_link] @ Sigma[k_link] \\\n",
    "                               @ H_links[l_link, k_link].T.conj()\n",
    "            Omega_l = total_Cov_l - H_links[l_link, l_link] @ Sigma[l_link] \\\n",
    "                      @ H_links[l_link, l_link].T.conj()\n",
    "\n",
    "            # print(Omega_l)\n",
    "            # -------------------------------------------------------------------\n",
    "            # calculate the rates\n",
    "            _, hy = np.linalg.slogdet(total_Cov_l)\n",
    "            _, hy_x = np.linalg.slogdet(Omega_l)\n",
    "            rates[l_link] = (hy - hy_x).real\n",
    "            # -------------------------------------------------------------------\n",
    "            sum_rate += weight[l_link] * rates[l_link]\n",
    "\n",
    "            Sigma_hat[l_link] = weight[l_link] * (np.linalg.inv(Omega_l) -\n",
    "                                                  np.linalg.inv(total_Cov_l))\n",
    "            power_normalizer += np.trace(Sigma_hat[l_link])\n",
    "        #end\n",
    "            # print(Sigma[l_link])\n",
    "            # print(Omega_l)\n",
    "            # print(rates[l_link]/np.log(2))\n",
    "            # print('***********')\n",
    "        # -------------------------------------------------------------------\n",
    "        # break out of loop if rate change is small\n",
    "        # print(rates/np.log(2))\n",
    "        sum_rate_list.append(sum_rate/np.log(2))\n",
    "        # print(sum_rate/np.log(2))\n",
    "        if sum_rate/np.log(2)-sum_rate_temp/np.log(2) < rate_diff:\n",
    "            break\n",
    "        # --------------------------------------------------------------------\n",
    "        sum_rate_temp = sum_rate\n",
    "        Sigma_hat *= power_total / power_normalizer\n",
    "        # --------------------------------------------------------------------\n",
    "        # calculate forward link Sigma's\n",
    "        # --------------------------------------------------------------------\n",
    "        power_normalizer = 0.0\n",
    "        for l_link in range(n_links):\n",
    "            # calculate forward link interference\n",
    "            total_Cov_hat_l = np.eye(H_links[l_link, l_link].shape[1], dtype=complex)\n",
    "            for k_link in range(n_links):\n",
    "                total_Cov_hat_l += H_links[k_link, l_link].T.conj() @ Sigma_hat[k_link] \\\n",
    "                                   @ H_links[k_link, l_link]\n",
    "            Omega_hat_l = total_Cov_hat_l - H_links[l_link, l_link].T.conj() @ Sigma_hat[l_link] \\\n",
    "                          @ H_links[l_link, l_link]\n",
    "\n",
    "            Sigma[l_link] = weight[l_link] * (np.linalg.inv(Omega_hat_l) -\n",
    "                                              np.linalg.inv(total_Cov_hat_l))\n",
    "            power_normalizer += np.trace(Sigma[l_link])\n",
    "        #end\n",
    "        Sigma *= power_total / power_normalizer\n",
    "    return sum_rate_list, sum_rate/np.log(2), rates/np.log(2), Sigma, Sigma_hat"
   ]
  },
  {
   "cell_type": "code",
   "execution_count": 641,
   "id": "93b5e154",
   "metadata": {},
   "outputs": [],
   "source": [
    "H1 = [[H[i][j].clone().detach().numpy().copy() for j in range(L)] for i in range(L)]\n",
    "H1 = np.array(H1)\n",
    "\n",
    "sigma1 = [sigma[i].clone().detach().numpy().copy() for i in range(L)]\n",
    "sigma1 = np.array(sigma1)\n",
    "\n",
    "sum_rate_list, _, _, _, _ = alg_dual_link(power_total=PT, weight=w, H_links=H1, rate_diff=tol_alg, Sigma=sigma1)"
   ]
  },
  {
   "cell_type": "code",
   "execution_count": 642,
   "id": "a0e4954e",
   "metadata": {},
   "outputs": [
    {
     "data": {
      "text/plain": [
       "Text(0, 0.5, 'Sum rate')"
      ]
     },
     "execution_count": 642,
     "metadata": {},
     "output_type": "execute_result"
    },
    {
     "data": {
      "image/png": "[encoded data removed]",
      "text/plain": [
       "<Figure size 640x480 with 1 Axes>"
      ]
     },
     "metadata": {},
     "output_type": "display_data"
    }
   ],
   "source": [
    "plt.plot(R_l)\n",
    "plt.plot(sum_rate_list, linestyle='--')\n",
    "plt.xlabel('Iterations')\n",
    "plt.ylabel('Sum rate')"
   ]
  }
 ],
 "metadata": {
  "kernelspec": {
   "display_name": "Deep-Unfolding-NN",
   "language": "python",
   "name": "python3"
  },
  "language_info": {
   "codemirror_mode": {
    "name": "ipython",
    "version": 3
   },
   "file_extension": ".py",
   "mimetype": "text/x-python",
   "name": "python",
   "nbconvert_exporter": "python",
   "pygments_lexer": "ipython3",
   "version": "3.10.16"
  }
 },
 "nbformat": 4,
 "nbformat_minor": 5
}
