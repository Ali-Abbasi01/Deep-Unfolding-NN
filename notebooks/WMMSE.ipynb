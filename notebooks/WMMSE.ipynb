{
 "cells": [
  {
   "cell_type": "code",
   "execution_count": null,
   "id": "744ed2c0",
   "metadata": {},
   "outputs": [],
   "source": [
    "import torch\n",
    "from src.WMMSE import WMMSE_alg"
   ]
  },
  {
   "cell_type": "code",
   "execution_count": 2,
   "id": "7d4d1391",
   "metadata": {},
   "outputs": [],
   "source": [
    "K = 3  # number of cells\n",
    "I_k = [2, 3, 1]  # number of users in each cell\n",
    "n_tx = [4, 2, 3]  # number of antennas at each transmitter\n",
    "n_rx = [[2, 3], [1, 2, 2], [4]]  # number of antennas at each user in each cell\n",
    "P_k = [5, 6, 7]\n",
    "sig_i_k = [[.2, .3], [.1, .2, .2], [.4]]\n",
    "d = [[5, 5], [5, 5, 5], [5]]\n",
    "alpha = [[1, 1], [1, 1, 1], [1]]\n",
    "\n",
    "# Initialize channel dictionary\n",
    "H = {}\n",
    "for k in range(K):  # transmitter cell index\n",
    "    H[k] = {}\n",
    "    for l in range(K):  # receiver cell index\n",
    "        for i in range(I_k[l]):  # user index in cell l\n",
    "            tx_ant = n_tx[k]\n",
    "            rx_ant = n_rx[l][i]\n",
    "            # Channel from transmitter k to user (l, i)\n",
    "            H[k][(l, i)] = torch.randn(rx_ant, tx_ant, dtype=torch.cfloat)\n",
    "\n",
    "max_iter_mu = 1000\n",
    "tol_mu = 1e-3\n",
    "max_iter_alg = 1000\n",
    "tol_alg = 1e-3"
   ]
  },
  {
   "cell_type": "code",
   "execution_count": null,
   "id": "bf2ae734",
   "metadata": {},
   "outputs": [],
   "source": [
    "wmmse = WMMSE_alg(K, I_k, n_tx, n_rx, H, P_k, sig_i_k, d, alpha, max_iter_mu, tol_mu, max_iter_alg, tol_alg)\n",
    "wmmse.algorithm()"
   ]
  }
 ],
 "metadata": {
  "kernelspec": {
   "display_name": "Deep-Unfolding-NN",
   "language": "python",
   "name": "python3"
  },
  "language_info": {
   "codemirror_mode": {
    "name": "ipython",
    "version": 3
   },
   "file_extension": ".py",
   "mimetype": "text/x-python",
   "name": "python",
   "nbconvert_exporter": "python",
   "pygments_lexer": "ipython3",
   "version": "3.10.16"
  }
 },
 "nbformat": 4,
 "nbformat_minor": 5
}
