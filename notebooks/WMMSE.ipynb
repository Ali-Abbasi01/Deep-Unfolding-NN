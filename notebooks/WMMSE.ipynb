{
 "cells": [
  {
   "cell_type": "markdown",
   "id": "c945a7b1",
   "metadata": {},
   "source": [
    "Running the WMMSE algorithm for the following setup:\n",
    "\n",
    "- MIMO interference channel\n",
    "- Noise powers and weights are set equally for all users\n",
    "- P = 10^(SNR/10); SNR = 25 dB\n",
    "- 4 cells\n",
    "- n_tx = all 3\n",
    "- n_rx = all 2\n",
    "- Channel coefficients generated from CN(0, 1)\n"
   ]
  },
  {
   "cell_type": "code",
   "execution_count": 1,
   "id": "744ed2c0",
   "metadata": {},
   "outputs": [],
   "source": [
    "import os\n",
    "import sys\n",
    "import json\n",
    "import torch\n",
    "import importlib\n",
    "import matplotlib.pyplot as plt\n",
    "# Get the current working directory\n",
    "scripts_dir = os.getcwd()\n",
    "# Go up one level\n",
    "project_root = os.path.abspath(os.path.join(scripts_dir, '..'))\n",
    "sys.path.append(project_root)\n",
    "\n",
    "import src.WMMSE\n",
    "importlib.reload(src.WMMSE)\n",
    "from src.WMMSE import WMMSE_alg\n",
    "\n",
    "import src.utils\n",
    "importlib.reload(src.utils)\n",
    "from src.utils import calculate_sum_rate"
   ]
  },
  {
   "cell_type": "code",
   "execution_count": 2,
   "id": "c0664e87",
   "metadata": {},
   "outputs": [],
   "source": [
    "SNR = 15\n",
    "P = 10**(SNR/10)\n",
    "K = 4  # number of cells\n",
    "I_k = [1, 1, 1, 1]  # number of users in each cell\n",
    "n_tx = [3, 3, 3, 3]  # number of antennas at each transmitter\n",
    "n_rx = [[2], [2], [2], [2]]  # number of antennas at each user in each cell\n",
    "P_k = [P, P, P, P]\n",
    "sig_i_k = [[.1], [.1], [.1], [.1]]\n",
    "d = [[2], [2], [2], [2]]\n",
    "alpha = [[1], [1], [1], [1]]\n",
    "\n",
    "# Initialize channel dictionary\n",
    "H = {}\n",
    "for k in range(K):  # transmitter cell index\n",
    "    H[k] = {}\n",
    "    for l in range(K):  # receiver cell index\n",
    "        for i in range(I_k[l]):  # user index in cell l\n",
    "            tx_ant = n_tx[k]\n",
    "            rx_ant = n_rx[l][i]\n",
    "            # Channel from transmitter k to user (l, i)\n",
    "            H[k][(l, i)] = torch.randn(rx_ant, tx_ant, dtype=torch.cdouble)/(2**.5) + 1j*torch.randn(rx_ant, tx_ant, dtype=torch.cdouble)/(2**.5)\n",
    "\n",
    "max_iter_mu = 1000\n",
    "tol_mu = 1e-5\n",
    "max_iter_alg = 100\n",
    "tol_alg = 1e-4\n",
    "\n",
    "wmmse = WMMSE_alg(K, I_k, n_tx, n_rx, H, P_k, sig_i_k, d, alpha, max_iter_mu, tol_mu, max_iter_alg, tol_alg)"
   ]
  },
  {
   "cell_type": "code",
   "execution_count": 4,
   "id": "3f1caaff",
   "metadata": {},
   "outputs": [],
   "source": [
    "# Initialize V\n",
    "V = {}\n",
    "for k in range(K):\n",
    "    V[k] = {}\n",
    "    for i in range(I_k[k]):\n",
    "        V[k][i] = torch.rand(n_tx[k], d[k][i], dtype=torch.cdouble)\n",
    "    ss = 0\n",
    "    for i in range(I_k[k]):\n",
    "        ss += torch.trace(V[k][i] @ V[k][i].conj().T)\n",
    "    for i in range(I_k[k]):\n",
    "        V[k][i] = V[k][i] * ((P_k[k])/ss)**0.5\n",
    "        \n",
    "V_l, U_l, W_l = wmmse.algorithm(V)"
   ]
  },
  {
   "cell_type": "code",
   "execution_count": 5,
   "id": "d1eb53fe",
   "metadata": {},
   "outputs": [
    {
     "name": "stderr",
     "output_type": "stream",
     "text": [
      "/Users/Ali/miniconda3/envs/Deep-Unfolding-NN/lib/python3.10/site-packages/matplotlib/cbook.py:1709: ComplexWarning: Casting complex values to real discards the imaginary part\n",
      "  return math.isfinite(val)\n",
      "/Users/Ali/miniconda3/envs/Deep-Unfolding-NN/lib/python3.10/site-packages/matplotlib/cbook.py:1345: ComplexWarning: Casting complex values to real discards the imaginary part\n",
      "  return np.asarray(x, float)\n"
     ]
    },
    {
     "data": {
      "text/plain": [
       "Text(0, 0.5, 'sum rate')"
      ]
     },
     "execution_count": 5,
     "metadata": {},
     "output_type": "execute_result"
    },
    {
     "data": {
      "image/png": "[encoded data removed]",
      "text/plain": [
       "<Figure size 640x480 with 1 Axes>"
      ]
     },
     "metadata": {},
     "output_type": "display_data"
    }
   ],
   "source": [
    "rr = []\n",
    "for i in V_l:\n",
    "    rr.append(calculate_sum_rate(H, I_k, i, alpha, sig_i_k))\n",
    "plt.plot(rr)\n",
    "plt.xlabel('iterations')  # Label for the x-axis\n",
    "plt.ylabel('sum rate')"
   ]
  },
  {
   "cell_type": "code",
   "execution_count": null,
   "id": "53f523ba",
   "metadata": {},
   "outputs": [],
   "source": []
  }
 ],
 "metadata": {
  "kernelspec": {
   "display_name": "Deep-Unfolding-NN",
   "language": "python",
   "name": "python3"
  },
  "language_info": {
   "codemirror_mode": {
    "name": "ipython",
    "version": 3
   },
   "file_extension": ".py",
   "mimetype": "text/x-python",
   "name": "python",
   "nbconvert_exporter": "python",
   "pygments_lexer": "ipython3",
   "version": "3.10.16"
  }
 },
 "nbformat": 4,
 "nbformat_minor": 5
}
