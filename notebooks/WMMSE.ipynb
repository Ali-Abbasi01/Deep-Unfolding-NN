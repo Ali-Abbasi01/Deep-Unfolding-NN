{
 "cells": [
  {
   "cell_type": "markdown",
   "id": "c945a7b1",
   "metadata": {},
   "source": [
    "Running the WMMSE algorithm for the following setup:\n",
    "\n",
    "- MIMO interference channel\n",
    "- Noise powers and weights are set equally for all users\n",
    "- P = 10^(SNR/10); SNR = 25 dB\n",
    "- 4 cells\n",
    "- n_tx = all 3\n",
    "- n_rx = all 2\n",
    "- Channel coefficients generated from CN(0, 1)\n"
   ]
  },
  {
   "cell_type": "code",
   "execution_count": 10,
   "id": "744ed2c0",
   "metadata": {},
   "outputs": [],
   "source": [
    "import os\n",
    "import sys\n",
    "import json\n",
    "import torch\n",
    "import importlib\n",
    "# Get the current working directory\n",
    "scripts_dir = os.getcwd()\n",
    "# Go up one level\n",
    "project_root = os.path.abspath(os.path.join(scripts_dir, '..'))\n",
    "sys.path.append(project_root)\n",
    "\n",
    "import src.WMMSE\n",
    "importlib.reload(src.WMMSE)\n",
    "from src.WMMSE import WMMSE_alg\n",
    "\n",
    "import src.utils\n",
    "importlib.reload(src.utils)\n",
    "from src.utils import calculate_sum_rate"
   ]
  },
  {
   "cell_type": "code",
   "execution_count": null,
   "id": "7d4d1391",
   "metadata": {},
   "outputs": [],
   "source": [
    "K = 3  # number of cells\n",
    "I_k = [2, 3, 1]  # number of users in each cell\n",
    "n_tx = [4, 2, 3]  # number of antennas at each transmitter\n",
    "n_rx = [[2, 3], [1, 2, 2], [4]]  # number of antennas at each user in each cell\n",
    "P_k = [5, 6, 7]\n",
    "sig_i_k = [[.2, .3], [.1, .2, .2], [.4]]\n",
    "d = [[5, 5], [5, 5, 5], [5]]\n",
    "alpha = [[1, 1], [1, 1, 1], [1]]\n",
    "\n",
    "# Initialize channel dictionary\n",
    "H = {}\n",
    "for k in range(K):  # transmitter cell index\n",
    "    H[k] = {}\n",
    "    for l in range(K):  # receiver cell index\n",
    "        for i in range(I_k[l]):  # user index in cell l\n",
    "            tx_ant = n_tx[k]\n",
    "            rx_ant = n_rx[l][i]\n",
    "            # Channel from transmitter k to user (l, i)\n",
    "            H[k][(l, i)] = torch.randn(rx_ant, tx_ant, dtype=torch.cfloat)\n",
    "\n",
    "max_iter_mu = 1000\n",
    "tol_mu = 1e-3\n",
    "max_iter_alg = 1000\n",
    "tol_alg = 1e-3"
   ]
  },
  {
   "cell_type": "code",
   "execution_count": 7,
   "id": "bf2ae734",
   "metadata": {},
   "outputs": [],
   "source": [
    "wmmse = WMMSE_alg(K, I_k, n_tx, n_rx, H, P_k, sig_i_k, d, alpha, max_iter_mu, tol_mu, max_iter_alg, tol_alg)\n",
    "V = wmmse.algorithm()"
   ]
  },
  {
   "cell_type": "code",
   "execution_count": 4,
   "id": "98e69820",
   "metadata": {},
   "outputs": [],
   "source": [
    "SNR = 25\n",
    "P = 10**(SNR/10)\n",
    "K = 4  # number of cells\n",
    "I_k = [1, 1, 1, 1]  # number of users in each cell\n",
    "n_tx = [3, 3, 3, 3]  # number of antennas at each transmitter\n",
    "n_rx = [[2], [2], [2], [2]]  # number of antennas at each user in each cell\n",
    "P_k = [P, P, P, P]\n",
    "sig_i_k = [[1], [1], [1], [1]]\n",
    "d = [[2], [2], [2], [2]]\n",
    "alpha = [[1], [1], [1], [1]]\n",
    "\n",
    "# Initialize channel dictionary\n",
    "H = {}\n",
    "for k in range(K):  # transmitter cell index\n",
    "    H[k] = {}\n",
    "    for l in range(K):  # receiver cell index\n",
    "        for i in range(I_k[l]):  # user index in cell l\n",
    "            tx_ant = n_tx[k]\n",
    "            rx_ant = n_rx[l][i]\n",
    "            # Channel from transmitter k to user (l, i)\n",
    "            H[k][(l, i)] = torch.randn(rx_ant, tx_ant)/(2**.5) + 1j*torch.randn(rx_ant, tx_ant)/(2**.5)\n",
    "\n",
    "max_iter_mu = 1000\n",
    "tol_mu = 1e-3\n",
    "max_iter_alg = 1000\n",
    "tol_alg = 1e-3"
   ]
  },
  {
   "cell_type": "code",
   "execution_count": 8,
   "id": "25e6099a",
   "metadata": {},
   "outputs": [],
   "source": [
    "wmmse = WMMSE_alg(K, I_k, n_tx, n_rx, H, P_k, sig_i_k, d, alpha, max_iter_mu, tol_mu, max_iter_alg, tol_alg)\n",
    "V = wmmse.algorithm()"
   ]
  },
  {
   "cell_type": "code",
   "execution_count": 14,
   "id": "3f77c00b",
   "metadata": {},
   "outputs": [
    {
     "ename": "TypeError",
     "evalue": "unsupported operand type(s) for @: 'Tensor' and 'dict'",
     "output_type": "error",
     "traceback": [
      "\u001b[0;31m---------------------------------------------------------------------------\u001b[0m",
      "\u001b[0;31mTypeError\u001b[0m                                 Traceback (most recent call last)",
      "Cell \u001b[0;32mIn[14], line 1\u001b[0m\n\u001b[0;32m----> 1\u001b[0m \u001b[43mcalculate_sum_rate\u001b[49m\u001b[43m(\u001b[49m\u001b[43mH\u001b[49m\u001b[43m,\u001b[49m\u001b[43m \u001b[49m\u001b[43mV\u001b[49m\u001b[43m,\u001b[49m\u001b[43m \u001b[49m\u001b[43malpha\u001b[49m\u001b[43m,\u001b[49m\u001b[43m \u001b[49m\u001b[43msig_i_k\u001b[49m\u001b[43m)\u001b[49m\n",
      "Cell \u001b[0;32mIn[13], line 11\u001b[0m, in \u001b[0;36mcalculate_sum_rate\u001b[0;34m(H, V, alpha, sig)\u001b[0m\n\u001b[1;32m      9\u001b[0m         \u001b[38;5;28;01mif\u001b[39;00m (j, l) \u001b[38;5;241m==\u001b[39m (k, i):\n\u001b[1;32m     10\u001b[0m             \u001b[38;5;28;01mcontinue\u001b[39;00m\n\u001b[0;32m---> 11\u001b[0m         S \u001b[38;5;241m+\u001b[39m\u001b[38;5;241m=\u001b[39m \u001b[43mH\u001b[49m\u001b[43m[\u001b[49m\u001b[43mj\u001b[49m\u001b[43m]\u001b[49m\u001b[43m[\u001b[49m\u001b[43m(\u001b[49m\u001b[43mk\u001b[49m\u001b[43m,\u001b[49m\u001b[43m \u001b[49m\u001b[43mi\u001b[49m\u001b[43m)\u001b[49m\u001b[43m]\u001b[49m\u001b[43m \u001b[49m\u001b[38;5;241;43m@\u001b[39;49m\u001b[43m \u001b[49m\u001b[43mV\u001b[49m\u001b[43m[\u001b[49m\u001b[43mj\u001b[49m\u001b[43m]\u001b[49m\u001b[43m[\u001b[49m\u001b[43ml\u001b[49m\u001b[43m]\u001b[49m \u001b[38;5;241m@\u001b[39m V[j][l]\u001b[38;5;241m.\u001b[39mconj()\u001b[38;5;241m.\u001b[39mT \u001b[38;5;241m@\u001b[39m H[j][(k, i)]\u001b[38;5;241m.\u001b[39mconj()\u001b[38;5;241m.\u001b[39mT\n\u001b[1;32m     12\u001b[0m S \u001b[38;5;241m+\u001b[39m\u001b[38;5;241m=\u001b[39m sig[k][i] \u001b[38;5;241m*\u001b[39m torch\u001b[38;5;241m.\u001b[39meye(Nr)\n\u001b[1;32m     13\u001b[0m tmp \u001b[38;5;241m=\u001b[39m torch\u001b[38;5;241m.\u001b[39meye(Nr) \u001b[38;5;241m+\u001b[39m H[k][(k, i)] \u001b[38;5;241m@\u001b[39m V[k][i] \u001b[38;5;241m@\u001b[39m V[k][i]\u001b[38;5;241m.\u001b[39mconj()\u001b[38;5;241m.\u001b[39mT \u001b[38;5;241m@\u001b[39m H[k][(k, i)]\u001b[38;5;241m.\u001b[39mconj()\u001b[38;5;241m.\u001b[39mT \u001b[38;5;241m@\u001b[39m torch\u001b[38;5;241m.\u001b[39mlinalg\u001b[38;5;241m.\u001b[39minv(S)\n",
      "\u001b[0;31mTypeError\u001b[0m: unsupported operand type(s) for @: 'Tensor' and 'dict'"
     ]
    }
   ],
   "source": [
    "calculate_sum_rate(H, V, alpha, sig_i_k)"
   ]
  },
  {
   "cell_type": "code",
   "execution_count": 13,
   "id": "ff56f6bd",
   "metadata": {},
   "outputs": [],
   "source": [
    "def calculate_sum_rate(H, V, alpha, sig):\n",
    "    sum_rate = 0\n",
    "    for k in range(len(H)):\n",
    "        for i in range(len(H[k])):\n",
    "            Nr = H[0][(k, i)].shape[0]\n",
    "            S = torch.zeros((Nr, Nr))\n",
    "            for j in range(len(H)):\n",
    "                for l in range(len(H[k])):\n",
    "                    if (j, l) == (k, i):\n",
    "                        continue\n",
    "                    S += H[j][(k, i)] @ V[j][l] @ V[j][l].conj().T @ H[j][(k, i)].conj().T\n",
    "            S += sig[k][i] * torch.eye(Nr)\n",
    "            tmp = torch.eye(Nr) + H[k][(k, i)] @ V[k][i] @ V[k][i].conj().T @ H[k][(k, i)].conj().T @ torch.linalg.inv(S)\n",
    "            R = torch.log2(torch.linalg.det(tmp))\n",
    "            sum_rate += alpha[k][i] * R\n",
    "    return sum_rate"
   ]
  },
  {
   "cell_type": "code",
   "execution_count": 15,
   "id": "8eed49a0",
   "metadata": {},
   "outputs": [
    {
     "data": {
      "text/plain": [
       "({0: {0: tensor([[5.7280e-05-8.2528e-05j, 8.8548e-05-2.9741e-04j],\n",
       "           [9.6213e-05+1.0969e-05j, 4.3275e-04+1.7815e-04j],\n",
       "           [8.1502e-06-7.5715e-05j, 6.9004e-05-2.6906e-04j]])},\n",
       "  1: {0: tensor([[-0.0012-0.0003j, -0.0011+0.0011j],\n",
       "           [-0.0002-0.0030j, -0.0033-0.0016j],\n",
       "           [ 0.0008-0.0008j, -0.0003-0.0014j]])},\n",
       "  2: {0: tensor([[ 0.0032-1.6591e-03j,  0.0007-3.9136e-03j],\n",
       "           [-0.0009-8.7580e-04j, -0.0014-7.7557e-05j],\n",
       "           [ 0.0018-3.2614e-03j, -0.0014-3.7337e-03j]])},\n",
       "  3: {0: tensor([[-0.0014-2.5171e-04j,  0.0012+1.4096e-06j],\n",
       "           [-0.0050+3.1080e-03j,  0.0038-3.2749e-03j],\n",
       "           [-0.0025-2.1089e-04j,  0.0022-1.8360e-04j]])}},\n",
       " {0: {0: tensor([[ 2.7551e-05-4.3350e-05j,  8.5055e-05-1.2296e-04j],\n",
       "           [-9.8579e-07+8.5531e-07j, -1.0607e-04+8.0654e-06j]])},\n",
       "  1: {0: tensor([[-0.0003+0.0004j,  0.0002+0.0006j],\n",
       "           [ 0.0004+0.0002j,  0.0004-0.0004j]])},\n",
       "  2: {0: tensor([[ 0.0004+0.0008j,  0.0008+0.0002j],\n",
       "           [ 0.0002-0.0006j, -0.0005-0.0006j]])},\n",
       "  3: {0: tensor([[-0.0004-0.0010j,  0.0005+0.0008j],\n",
       "           [-0.0001-0.0007j,  0.0002+0.0006j]])}},\n",
       " {0: {0: tensor([[1.0000e+00+2.2578e-16j, 7.7853e-09+3.8213e-10j],\n",
       "           [7.7853e-09-3.8212e-10j, 1.0000e+00+8.1918e-16j]])},\n",
       "  1: {0: tensor([[1.0000e+00+1.0736e-15j, 2.9319e-07-5.0156e-07j],\n",
       "           [2.9319e-07+5.0156e-07j, 1.0000e+00-1.7080e-14j]])},\n",
       "  2: {0: tensor([[1.0000e+00-1.5567e-14j, 7.9527e-07-9.6478e-07j],\n",
       "           [7.9527e-07+9.6478e-07j, 1.0000e+00+2.0717e-14j]])},\n",
       "  3: {0: tensor([[ 1.0000e+00+1.1540e-14j, -1.3669e-06+2.1303e-07j],\n",
       "           [-1.3669e-06-2.1303e-07j,  1.0000e+00-3.9120e-14j]])}})"
      ]
     },
     "execution_count": 15,
     "metadata": {},
     "output_type": "execute_result"
    }
   ],
   "source": [
    "V"
   ]
  }
 ],
 "metadata": {
  "kernelspec": {
   "display_name": "Deep-Unfolding-NN",
   "language": "python",
   "name": "python3"
  },
  "language_info": {
   "codemirror_mode": {
    "name": "ipython",
    "version": 3
   },
   "file_extension": ".py",
   "mimetype": "text/x-python",
   "name": "python",
   "nbconvert_exporter": "python",
   "pygments_lexer": "ipython3",
   "version": "3.10.16"
  }
 },
 "nbformat": 4,
 "nbformat_minor": 5
}
