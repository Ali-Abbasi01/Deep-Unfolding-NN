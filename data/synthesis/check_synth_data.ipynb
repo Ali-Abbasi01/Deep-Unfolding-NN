{
 "cells": [
  {
   "cell_type": "code",
   "execution_count": null,
   "id": "ab1db514",
   "metadata": {},
   "outputs": [],
   "source": [
    "import torch\n",
    "import pandas as pd\n",
    "import json"
   ]
  },
  {
   "cell_type": "code",
   "execution_count": null,
   "id": "e13e01a3",
   "metadata": {},
   "outputs": [],
   "source": [
    "# Load the list of records\n",
    "with open(\"data.json\", \"r\") as f:\n",
    "    records_in = json.load(f)\n",
    "\n",
    "# Build a DataFrame\n",
    "df = pd.DataFrame(records_in)\n",
    "\n",
    "# Helper to turn JSON dicts back into torch.cfloat tensors\n",
    "def deserialize_complex_list(lst):\n",
    "    return [\n",
    "        torch.tensor(entry[\"real\"]) + 1j * torch.tensor(entry[\"imag\"])\n",
    "        for entry in lst\n",
    "    ]\n",
    "\n",
    "# Apply to both columns\n",
    "df[\"H\"] = df[\"H\"].apply(deserialize_complex_list)\n",
    "df[\"V\"] = df[\"V\"].apply(deserialize_complex_list)\n",
    "\n",
    "# Now df.H[i] is a list of torch.complex tensors again, same for df.V[i]\n",
    "print(df.head())"
   ]
  }
 ],
 "metadata": {
  "kernelspec": {
   "display_name": "Deep-Unfolding-NN",
   "language": "python",
   "name": "python3"
  },
  "language_info": {
   "name": "python",
   "version": "3.10.16"
  }
 },
 "nbformat": 4,
 "nbformat_minor": 5
}
